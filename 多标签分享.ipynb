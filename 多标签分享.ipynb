{
 "cells": [
  {
   "cell_type": "markdown",
   "metadata": {},
   "source": [
    "# 多标签竞赛分享"
   ]
  },
  {
   "cell_type": "markdown",
   "metadata": {},
   "source": [
    "#### 由于后期工作会用到多标签分类，刚好又看到了这个竞赛就参加了。分享下过程的一些想法和思路，不确定都是对的，希望各路大佬指导。"
   ]
  },
  {
   "cell_type": "markdown",
   "metadata": {},
   "source": [
    "#### backbone model：  \n",
    "&#8195;&#8195;&#8195;&#8195;inceptionresnetv2，  \n",
    "&#8195;&#8195;&#8195;&#8195;当然也尝试了resnet系列等，  \n",
    "&#8195;&#8195;&#8195;&#8195;考虑过用1x1的convnet代替fc，但是1x1主要是为了节省模型，所以就算了，在fc的时候应该和很多同学一样感觉features的dim相对于标签数量有点小，1、想增加features的维度，尝试增加了一个模型，concat features，效果一般，考虑到实用也不大就没再继续研究。2、fc分成两个部分，仔细思考了下在features一样的情况下，其实多此一举，除非是不同的feature extraction，或者是两部份分开训练。但考虑实际应用都没再尝试。\n",
    "                "
   ]
  },
  {
   "cell_type": "markdown",
   "metadata": {},
   "source": [
    "#### Data augmentation:  \n",
    "&#8195;&#8195;&#8195;&#8195;RandomRotation(20),  \n",
    "&#8195;&#8195;&#8195;&#8195;ColorJitter(0.3,0.3,0.3,0.1),  \n",
    "&#8195;&#8195;&#8195;&#8195;RandomHorizontalFlip(),  \n",
    "&#8195;&#8195;&#8195;&#8195;RandomVerticalFlip(),  \n",
    "&#8195;&#8195;&#8195;&#8195;尝试了增加高斯噪声效果不太理想，并没继续研究。"
   ]
  },
  {
   "cell_type": "markdown",
   "metadata": {},
   "source": [
    "主要尝试可能是再loss上了，直接上代码(基于pytorch)："
   ]
  },
  {
   "cell_type": "code",
   "execution_count": 6,
   "metadata": {},
   "outputs": [],
   "source": [
    "import torch\n",
    "import torch.nn as nn\n",
    "import numpy as np\n",
    "class BCEFDiceLoss(nn.Module):\n",
    "    def __init__(self,\n",
    "                 bce_weight=3,\n",
    "                 dice_weight=1):\n",
    "        super().__init__()\n",
    "\n",
    "        self.dice_weight = dice_weight\n",
    "        self.bce_weight = bce_weight\n",
    "        self.class_weight = torch.FloatTensor([1,10])\n",
    "\n",
    "\n",
    "    def forward(self, outputs, targets):\n",
    "        #标签为1权重设置为10，考虑过安装标签数量来设置结果和直接把1设为10差不多，这个更加直接。\n",
    "        weight = self.class_weight[targets.long()]\n",
    "        weights = weight.to(targets.device)\n",
    "        #二分类用的交叉熵：\n",
    "        if not (targets.size() == outputs.size()):\n",
    "            raise ValueError(\n",
    "                \"Target size ({}) must be the same as input size ({})\".format(targets.size(), outputs.size()))\n",
    "\n",
    "        max_val = (-outputs).clamp(min=0)\n",
    "        loss = outputs - outputs * targets + max_val + ((-max_val).exp() + (-outputs - max_val).exp()).log()\n",
    "        loss = loss*weights\n",
    "        loss = loss.mean()*self.bce_weight\n",
    "        #参照fmeasure：\n",
    "        eps = 1e-10\n",
    "        dice_target = (targets == 1).float()\n",
    "        dice_output = F.sigmoid(outputs)\n",
    "        intersection = (dice_output * dice_target).sum()\n",
    "        union = dice_output.sum() + dice_target.sum() + eps\n",
    "        loss += (1 - torch.log(2 * intersection / union)) * self.dice_weight\n",
    "        return loss"
   ]
  },
  {
   "cell_type": "markdown",
   "metadata": {},
   "source": [
    "时间有限就这样了，有错请大佬指教。"
   ]
  }
 ],
 "metadata": {
  "kernelspec": {
   "display_name": "Python 3",
   "language": "python",
   "name": "python3"
  },
  "language_info": {
   "codemirror_mode": {
    "name": "ipython",
    "version": 3
   },
   "file_extension": ".py",
   "mimetype": "text/x-python",
   "name": "python",
   "nbconvert_exporter": "python",
   "pygments_lexer": "ipython3",
   "version": "3.6.5"
  }
 },
 "nbformat": 4,
 "nbformat_minor": 2
}
